{
 "cells": [
  {
   "cell_type": "markdown",
   "metadata": {
    "id": "BMatz1PXND41"
   },
   "source": [
    "# Overview\n",
    "\n",
    "---"
   ]
  },
  {
   "cell_type": "markdown",
   "metadata": {
    "id": "6OiSdI2HNKkW"
   },
   "source": [
    "This is a project that tries to establish the chances that a customer will abandon our services given the various parameters available in our data. It looks at the information available on the usage of our services by customers and from that information, predicts the likelihood that a customer will abandon our services or not.\n",
    "This is important for purposes of establishing the optimal usage of limited resources on retention initatives aimed at our customers for better tailoring of such strategies to ensure intended output."
   ]
  },
  {
   "cell_type": "code",
   "execution_count": 11,
   "metadata": {
    "colab": {
     "base_uri": "https://localhost:8080/",
     "height": 377
    },
    "id": "vxYfPTRPqcOF",
    "outputId": "209387e9-e186-4b0c-d792-a399c4068e2b"
   },
   "outputs": [
    {
     "data": {
      "text/html": [
       "<div>\n",
       "<style scoped>\n",
       "    .dataframe tbody tr th:only-of-type {\n",
       "        vertical-align: middle;\n",
       "    }\n",
       "\n",
       "    .dataframe tbody tr th {\n",
       "        vertical-align: top;\n",
       "    }\n",
       "\n",
       "    .dataframe thead th {\n",
       "        text-align: right;\n",
       "    }\n",
       "</style>\n",
       "<table border=\"1\" class=\"dataframe\">\n",
       "  <thead>\n",
       "    <tr style=\"text-align: right;\">\n",
       "      <th></th>\n",
       "      <th>state</th>\n",
       "      <th>account length</th>\n",
       "      <th>area code</th>\n",
       "      <th>phone number</th>\n",
       "      <th>international plan</th>\n",
       "      <th>voice mail plan</th>\n",
       "      <th>number vmail messages</th>\n",
       "      <th>total day minutes</th>\n",
       "      <th>total day calls</th>\n",
       "      <th>total day charge</th>\n",
       "      <th>...</th>\n",
       "      <th>total eve calls</th>\n",
       "      <th>total eve charge</th>\n",
       "      <th>total night minutes</th>\n",
       "      <th>total night calls</th>\n",
       "      <th>total night charge</th>\n",
       "      <th>total intl minutes</th>\n",
       "      <th>total intl calls</th>\n",
       "      <th>total intl charge</th>\n",
       "      <th>customer service calls</th>\n",
       "      <th>churn</th>\n",
       "    </tr>\n",
       "  </thead>\n",
       "  <tbody>\n",
       "    <tr>\n",
       "      <th>0</th>\n",
       "      <td>KS</td>\n",
       "      <td>128</td>\n",
       "      <td>415</td>\n",
       "      <td>382-4657</td>\n",
       "      <td>no</td>\n",
       "      <td>yes</td>\n",
       "      <td>25</td>\n",
       "      <td>265.1</td>\n",
       "      <td>110</td>\n",
       "      <td>45.07</td>\n",
       "      <td>...</td>\n",
       "      <td>99</td>\n",
       "      <td>16.78</td>\n",
       "      <td>244.7</td>\n",
       "      <td>91</td>\n",
       "      <td>11.01</td>\n",
       "      <td>10.0</td>\n",
       "      <td>3</td>\n",
       "      <td>2.70</td>\n",
       "      <td>1</td>\n",
       "      <td>False</td>\n",
       "    </tr>\n",
       "    <tr>\n",
       "      <th>1</th>\n",
       "      <td>OH</td>\n",
       "      <td>107</td>\n",
       "      <td>415</td>\n",
       "      <td>371-7191</td>\n",
       "      <td>no</td>\n",
       "      <td>yes</td>\n",
       "      <td>26</td>\n",
       "      <td>161.6</td>\n",
       "      <td>123</td>\n",
       "      <td>27.47</td>\n",
       "      <td>...</td>\n",
       "      <td>103</td>\n",
       "      <td>16.62</td>\n",
       "      <td>254.4</td>\n",
       "      <td>103</td>\n",
       "      <td>11.45</td>\n",
       "      <td>13.7</td>\n",
       "      <td>3</td>\n",
       "      <td>3.70</td>\n",
       "      <td>1</td>\n",
       "      <td>False</td>\n",
       "    </tr>\n",
       "    <tr>\n",
       "      <th>2</th>\n",
       "      <td>NJ</td>\n",
       "      <td>137</td>\n",
       "      <td>415</td>\n",
       "      <td>358-1921</td>\n",
       "      <td>no</td>\n",
       "      <td>no</td>\n",
       "      <td>0</td>\n",
       "      <td>243.4</td>\n",
       "      <td>114</td>\n",
       "      <td>41.38</td>\n",
       "      <td>...</td>\n",
       "      <td>110</td>\n",
       "      <td>10.30</td>\n",
       "      <td>162.6</td>\n",
       "      <td>104</td>\n",
       "      <td>7.32</td>\n",
       "      <td>12.2</td>\n",
       "      <td>5</td>\n",
       "      <td>3.29</td>\n",
       "      <td>0</td>\n",
       "      <td>False</td>\n",
       "    </tr>\n",
       "    <tr>\n",
       "      <th>3</th>\n",
       "      <td>OH</td>\n",
       "      <td>84</td>\n",
       "      <td>408</td>\n",
       "      <td>375-9999</td>\n",
       "      <td>yes</td>\n",
       "      <td>no</td>\n",
       "      <td>0</td>\n",
       "      <td>299.4</td>\n",
       "      <td>71</td>\n",
       "      <td>50.90</td>\n",
       "      <td>...</td>\n",
       "      <td>88</td>\n",
       "      <td>5.26</td>\n",
       "      <td>196.9</td>\n",
       "      <td>89</td>\n",
       "      <td>8.86</td>\n",
       "      <td>6.6</td>\n",
       "      <td>7</td>\n",
       "      <td>1.78</td>\n",
       "      <td>2</td>\n",
       "      <td>False</td>\n",
       "    </tr>\n",
       "    <tr>\n",
       "      <th>4</th>\n",
       "      <td>OK</td>\n",
       "      <td>75</td>\n",
       "      <td>415</td>\n",
       "      <td>330-6626</td>\n",
       "      <td>yes</td>\n",
       "      <td>no</td>\n",
       "      <td>0</td>\n",
       "      <td>166.7</td>\n",
       "      <td>113</td>\n",
       "      <td>28.34</td>\n",
       "      <td>...</td>\n",
       "      <td>122</td>\n",
       "      <td>12.61</td>\n",
       "      <td>186.9</td>\n",
       "      <td>121</td>\n",
       "      <td>8.41</td>\n",
       "      <td>10.1</td>\n",
       "      <td>3</td>\n",
       "      <td>2.73</td>\n",
       "      <td>3</td>\n",
       "      <td>False</td>\n",
       "    </tr>\n",
       "  </tbody>\n",
       "</table>\n",
       "<p>5 rows × 21 columns</p>\n",
       "</div>"
      ],
      "text/plain": [
       "  state  account length  area code phone number international plan  \\\n",
       "0    KS             128        415     382-4657                 no   \n",
       "1    OH             107        415     371-7191                 no   \n",
       "2    NJ             137        415     358-1921                 no   \n",
       "3    OH              84        408     375-9999                yes   \n",
       "4    OK              75        415     330-6626                yes   \n",
       "\n",
       "  voice mail plan  number vmail messages  total day minutes  total day calls  \\\n",
       "0             yes                     25              265.1              110   \n",
       "1             yes                     26              161.6              123   \n",
       "2              no                      0              243.4              114   \n",
       "3              no                      0              299.4               71   \n",
       "4              no                      0              166.7              113   \n",
       "\n",
       "   total day charge  ...  total eve calls  total eve charge  \\\n",
       "0             45.07  ...               99             16.78   \n",
       "1             27.47  ...              103             16.62   \n",
       "2             41.38  ...              110             10.30   \n",
       "3             50.90  ...               88              5.26   \n",
       "4             28.34  ...              122             12.61   \n",
       "\n",
       "   total night minutes  total night calls  total night charge  \\\n",
       "0                244.7                 91               11.01   \n",
       "1                254.4                103               11.45   \n",
       "2                162.6                104                7.32   \n",
       "3                196.9                 89                8.86   \n",
       "4                186.9                121                8.41   \n",
       "\n",
       "   total intl minutes  total intl calls  total intl charge  \\\n",
       "0                10.0                 3               2.70   \n",
       "1                13.7                 3               3.70   \n",
       "2                12.2                 5               3.29   \n",
       "3                 6.6                 7               1.78   \n",
       "4                10.1                 3               2.73   \n",
       "\n",
       "   customer service calls  churn  \n",
       "0                       1  False  \n",
       "1                       1  False  \n",
       "2                       0  False  \n",
       "3                       2  False  \n",
       "4                       3  False  \n",
       "\n",
       "[5 rows x 21 columns]"
      ]
     },
     "execution_count": 11,
     "metadata": {},
     "output_type": "execute_result"
    }
   ],
   "source": [
    "#Loading data\n",
    "import pandas as pd\n",
    "data = pd.read_csv('bigml_59c28831336c6604c800002a.csv')\n",
    "data.head()"
   ]
  },
  {
   "cell_type": "markdown",
   "metadata": {
    "id": "6E5ayVOtOlhi"
   },
   "source": [
    "# Business and Data Understanding\n",
    "\n",
    "---\n",
    "\n"
   ]
  },
  {
   "cell_type": "markdown",
   "metadata": {
    "id": "oKMT044iXfvh"
   },
   "source": [
    "Our data was sourced from a telecommunications company and has 20 features as listed below.\n",
    "* account length\n",
    "* account length\n",
    "* international plan\n",
    "* voice mail plan\n",
    "* number of voice mail messages\n",
    "* total day minutes used\n",
    "* day calls made\n",
    "* total day charge\n",
    "* total evening minutes\n",
    "* total evening calls\n",
    "* total evening charge\n",
    "* total night minutes\n",
    "* total night calls\n",
    "* total night charge\n",
    "* total international minutes used\n",
    "* total international calls made\n",
    "* total international charge\n",
    "* number customer service calls made\n",
    "\n",
    "Our data did not have any missing values nor did it have any errors during loading."
   ]
  },
  {
   "cell_type": "markdown",
   "metadata": {
    "id": "xm3UqaHjNBY-"
   },
   "source": [
    "Splitting the data variables into 'X' and 'Y' variables for purposes of availing input to our model."
   ]
  },
  {
   "cell_type": "code",
   "execution_count": 12,
   "metadata": {
    "id": "j0ejHzDhqjb-"
   },
   "outputs": [],
   "source": [
    "y = data['churn']\n",
    "X = data.drop(['state', 'account length','area code','phone number','international plan','voice mail plan','churn'], axis=1)"
   ]
  },
  {
   "cell_type": "markdown",
   "metadata": {
    "id": "qDYhLYzVqulo"
   },
   "source": [
    "We thereafter split our data into training and testing samples based on Scikit Learn model"
   ]
  },
  {
   "cell_type": "code",
   "execution_count": 13,
   "metadata": {
    "colab": {
     "base_uri": "https://localhost:8080/"
    },
    "id": "8EsSH8UHsJgC",
    "outputId": "463e343d-6654-4963-8b73-77ac5b46799d"
   },
   "outputs": [
    {
     "name": "stdout",
     "output_type": "stream",
     "text": [
      "2666 667 2666 667\n"
     ]
    }
   ],
   "source": [
    "from sklearn.model_selection import train_test_split\n",
    "\n",
    "train, test = train_test_split(data)\n",
    "\n",
    "X_train, X_test, y_train, y_test = train_test_split(X, y, test_size=0.2, random_state=42)\n",
    "\n",
    "print(len(X_train), len(X_test), len(y_train), len(y_test))"
   ]
  },
  {
   "cell_type": "markdown",
   "metadata": {
    "id": "79oaWusdPQFj"
   },
   "source": [
    "# Modeling\n",
    "\n",
    "---\n",
    "\n",
    "\n",
    "\n",
    "Preparation for Data Modelling\n",
    "\n",
    "For our first model, we use the Lot Transformation"
   ]
  },
  {
   "cell_type": "code",
   "execution_count": 14,
   "metadata": {
    "colab": {
     "base_uri": "https://localhost:8080/",
     "height": 478
    },
    "id": "lbPXepXVsOfe",
    "outputId": "7919e9ea-426a-4c6a-cae9-3034dc710871"
   },
   "outputs": [
    {
     "name": "stderr",
     "output_type": "stream",
     "text": [
      "C:\\Users\\kuta\\anaconda3\\lib\\site-packages\\sklearn\\preprocessing\\_function_transformer.py:205: RuntimeWarning: divide by zero encountered in log\n",
      "  return func(X, **(kw_args if kw_args else {}))\n"
     ]
    },
    {
     "data": {
      "text/html": [
       "<div>\n",
       "<style scoped>\n",
       "    .dataframe tbody tr th:only-of-type {\n",
       "        vertical-align: middle;\n",
       "    }\n",
       "\n",
       "    .dataframe tbody tr th {\n",
       "        vertical-align: top;\n",
       "    }\n",
       "\n",
       "    .dataframe thead th {\n",
       "        text-align: right;\n",
       "    }\n",
       "</style>\n",
       "<table border=\"1\" class=\"dataframe\">\n",
       "  <thead>\n",
       "    <tr style=\"text-align: right;\">\n",
       "      <th></th>\n",
       "      <th>log_nvm</th>\n",
       "      <th>log_tdm</th>\n",
       "      <th>log_tdc</th>\n",
       "      <th>log_tdg</th>\n",
       "      <th>log_tem</th>\n",
       "      <th>log_tec</th>\n",
       "      <th>log_teg</th>\n",
       "      <th>log_tnm</th>\n",
       "      <th>log_tnc</th>\n",
       "      <th>log_tng</th>\n",
       "      <th>logtim</th>\n",
       "      <th>log_tic</th>\n",
       "      <th>log_tig</th>\n",
       "      <th>log_csc</th>\n",
       "    </tr>\n",
       "  </thead>\n",
       "  <tbody>\n",
       "    <tr>\n",
       "      <th>817</th>\n",
       "      <td>-inf</td>\n",
       "      <td>4.559126</td>\n",
       "      <td>4.521789</td>\n",
       "      <td>2.787477</td>\n",
       "      <td>5.098035</td>\n",
       "      <td>4.143135</td>\n",
       "      <td>2.632608</td>\n",
       "      <td>5.576706</td>\n",
       "      <td>4.770685</td>\n",
       "      <td>2.475698</td>\n",
       "      <td>1.887070</td>\n",
       "      <td>1.791759</td>\n",
       "      <td>0.576613</td>\n",
       "      <td>0.693147</td>\n",
       "    </tr>\n",
       "    <tr>\n",
       "      <th>1373</th>\n",
       "      <td>-inf</td>\n",
       "      <td>4.718499</td>\n",
       "      <td>4.653960</td>\n",
       "      <td>2.946542</td>\n",
       "      <td>5.266311</td>\n",
       "      <td>4.700480</td>\n",
       "      <td>2.800933</td>\n",
       "      <td>5.341856</td>\n",
       "      <td>4.532599</td>\n",
       "      <td>2.240710</td>\n",
       "      <td>1.410987</td>\n",
       "      <td>1.386294</td>\n",
       "      <td>0.104360</td>\n",
       "      <td>1.386294</td>\n",
       "    </tr>\n",
       "    <tr>\n",
       "      <th>679</th>\n",
       "      <td>-inf</td>\n",
       "      <td>5.404478</td>\n",
       "      <td>4.356709</td>\n",
       "      <td>3.632574</td>\n",
       "      <td>5.789960</td>\n",
       "      <td>4.709530</td>\n",
       "      <td>3.325036</td>\n",
       "      <td>5.337538</td>\n",
       "      <td>4.644391</td>\n",
       "      <td>2.236445</td>\n",
       "      <td>2.163323</td>\n",
       "      <td>2.197225</td>\n",
       "      <td>0.854415</td>\n",
       "      <td>0.000000</td>\n",
       "    </tr>\n",
       "    <tr>\n",
       "      <th>56</th>\n",
       "      <td>-inf</td>\n",
       "      <td>4.843399</td>\n",
       "      <td>4.584967</td>\n",
       "      <td>3.071303</td>\n",
       "      <td>5.192957</td>\n",
       "      <td>4.127134</td>\n",
       "      <td>2.727853</td>\n",
       "      <td>4.947340</td>\n",
       "      <td>4.852030</td>\n",
       "      <td>1.846879</td>\n",
       "      <td>2.079442</td>\n",
       "      <td>0.693147</td>\n",
       "      <td>0.770108</td>\n",
       "      <td>0.000000</td>\n",
       "    </tr>\n",
       "    <tr>\n",
       "      <th>1993</th>\n",
       "      <td>-inf</td>\n",
       "      <td>5.376666</td>\n",
       "      <td>4.564348</td>\n",
       "      <td>3.604682</td>\n",
       "      <td>5.584623</td>\n",
       "      <td>4.343805</td>\n",
       "      <td>3.119718</td>\n",
       "      <td>5.365976</td>\n",
       "      <td>4.700480</td>\n",
       "      <td>2.264883</td>\n",
       "      <td>1.504077</td>\n",
       "      <td>1.098612</td>\n",
       "      <td>0.198851</td>\n",
       "      <td>-inf</td>\n",
       "    </tr>\n",
       "    <tr>\n",
       "      <th>...</th>\n",
       "      <td>...</td>\n",
       "      <td>...</td>\n",
       "      <td>...</td>\n",
       "      <td>...</td>\n",
       "      <td>...</td>\n",
       "      <td>...</td>\n",
       "      <td>...</td>\n",
       "      <td>...</td>\n",
       "      <td>...</td>\n",
       "      <td>...</td>\n",
       "      <td>...</td>\n",
       "      <td>...</td>\n",
       "      <td>...</td>\n",
       "      <td>...</td>\n",
       "    </tr>\n",
       "    <tr>\n",
       "      <th>1095</th>\n",
       "      <td>-inf</td>\n",
       "      <td>5.614587</td>\n",
       "      <td>4.787492</td>\n",
       "      <td>3.842673</td>\n",
       "      <td>5.291293</td>\n",
       "      <td>4.406719</td>\n",
       "      <td>2.826129</td>\n",
       "      <td>5.080161</td>\n",
       "      <td>4.127134</td>\n",
       "      <td>1.979621</td>\n",
       "      <td>1.791759</td>\n",
       "      <td>1.098612</td>\n",
       "      <td>0.482426</td>\n",
       "      <td>0.000000</td>\n",
       "    </tr>\n",
       "    <tr>\n",
       "      <th>1130</th>\n",
       "      <td>-inf</td>\n",
       "      <td>3.558201</td>\n",
       "      <td>4.127134</td>\n",
       "      <td>1.786747</td>\n",
       "      <td>5.197391</td>\n",
       "      <td>4.488636</td>\n",
       "      <td>2.732418</td>\n",
       "      <td>5.527841</td>\n",
       "      <td>4.060443</td>\n",
       "      <td>2.426571</td>\n",
       "      <td>2.541602</td>\n",
       "      <td>0.693147</td>\n",
       "      <td>1.232560</td>\n",
       "      <td>0.000000</td>\n",
       "    </tr>\n",
       "    <tr>\n",
       "      <th>1294</th>\n",
       "      <td>-inf</td>\n",
       "      <td>4.472781</td>\n",
       "      <td>4.330733</td>\n",
       "      <td>2.700690</td>\n",
       "      <td>5.568345</td>\n",
       "      <td>4.709530</td>\n",
       "      <td>3.103240</td>\n",
       "      <td>5.218191</td>\n",
       "      <td>4.828314</td>\n",
       "      <td>2.117460</td>\n",
       "      <td>2.219203</td>\n",
       "      <td>1.609438</td>\n",
       "      <td>0.908259</td>\n",
       "      <td>0.000000</td>\n",
       "    </tr>\n",
       "    <tr>\n",
       "      <th>860</th>\n",
       "      <td>-inf</td>\n",
       "      <td>5.188503</td>\n",
       "      <td>4.709530</td>\n",
       "      <td>3.416414</td>\n",
       "      <td>5.165928</td>\n",
       "      <td>4.867534</td>\n",
       "      <td>2.700690</td>\n",
       "      <td>5.431974</td>\n",
       "      <td>4.521789</td>\n",
       "      <td>2.331173</td>\n",
       "      <td>2.292535</td>\n",
       "      <td>1.791759</td>\n",
       "      <td>0.982078</td>\n",
       "      <td>0.693147</td>\n",
       "    </tr>\n",
       "    <tr>\n",
       "      <th>3174</th>\n",
       "      <td>3.7612</td>\n",
       "      <td>3.397858</td>\n",
       "      <td>4.812184</td>\n",
       "      <td>1.625311</td>\n",
       "      <td>4.860587</td>\n",
       "      <td>4.762174</td>\n",
       "      <td>2.395164</td>\n",
       "      <td>5.786591</td>\n",
       "      <td>4.653960</td>\n",
       "      <td>2.685805</td>\n",
       "      <td>2.151762</td>\n",
       "      <td>1.791759</td>\n",
       "      <td>0.841567</td>\n",
       "      <td>0.693147</td>\n",
       "    </tr>\n",
       "  </tbody>\n",
       "</table>\n",
       "<p>2666 rows × 14 columns</p>\n",
       "</div>"
      ],
      "text/plain": [
       "      log_nvm   log_tdm   log_tdc   log_tdg   log_tem   log_tec   log_teg  \\\n",
       "817      -inf  4.559126  4.521789  2.787477  5.098035  4.143135  2.632608   \n",
       "1373     -inf  4.718499  4.653960  2.946542  5.266311  4.700480  2.800933   \n",
       "679      -inf  5.404478  4.356709  3.632574  5.789960  4.709530  3.325036   \n",
       "56       -inf  4.843399  4.584967  3.071303  5.192957  4.127134  2.727853   \n",
       "1993     -inf  5.376666  4.564348  3.604682  5.584623  4.343805  3.119718   \n",
       "...       ...       ...       ...       ...       ...       ...       ...   \n",
       "1095     -inf  5.614587  4.787492  3.842673  5.291293  4.406719  2.826129   \n",
       "1130     -inf  3.558201  4.127134  1.786747  5.197391  4.488636  2.732418   \n",
       "1294     -inf  4.472781  4.330733  2.700690  5.568345  4.709530  3.103240   \n",
       "860      -inf  5.188503  4.709530  3.416414  5.165928  4.867534  2.700690   \n",
       "3174   3.7612  3.397858  4.812184  1.625311  4.860587  4.762174  2.395164   \n",
       "\n",
       "       log_tnm   log_tnc   log_tng    logtim   log_tic   log_tig   log_csc  \n",
       "817   5.576706  4.770685  2.475698  1.887070  1.791759  0.576613  0.693147  \n",
       "1373  5.341856  4.532599  2.240710  1.410987  1.386294  0.104360  1.386294  \n",
       "679   5.337538  4.644391  2.236445  2.163323  2.197225  0.854415  0.000000  \n",
       "56    4.947340  4.852030  1.846879  2.079442  0.693147  0.770108  0.000000  \n",
       "1993  5.365976  4.700480  2.264883  1.504077  1.098612  0.198851      -inf  \n",
       "...        ...       ...       ...       ...       ...       ...       ...  \n",
       "1095  5.080161  4.127134  1.979621  1.791759  1.098612  0.482426  0.000000  \n",
       "1130  5.527841  4.060443  2.426571  2.541602  0.693147  1.232560  0.000000  \n",
       "1294  5.218191  4.828314  2.117460  2.219203  1.609438  0.908259  0.000000  \n",
       "860   5.431974  4.521789  2.331173  2.292535  1.791759  0.982078  0.693147  \n",
       "3174  5.786591  4.653960  2.685805  2.151762  1.791759  0.841567  0.693147  \n",
       "\n",
       "[2666 rows x 14 columns]"
      ]
     },
     "execution_count": 14,
     "metadata": {},
     "output_type": "execute_result"
    }
   ],
   "source": [
    "from sklearn.preprocessing import FunctionTransformer\n",
    "import numpy as np\n",
    "\n",
    "log_transformer = FunctionTransformer(np.log, validate=True)\n",
    "\n",
    "log_columns = ['number vmail messages', 'total day minutes', 'total day calls',\n",
    "       'total day charge', 'total eve minutes', 'total eve calls',\n",
    "       'total eve charge', 'total night minutes', 'total night calls',\n",
    "       'total night charge', 'total intl minutes', 'total intl calls',\n",
    "       'total intl charge', 'customer service calls']\n",
    "\n",
    "\n",
    "new_log_columns = ['log_nvm', 'log_tdm', 'log_tdc',\n",
    "       'log_tdg', 'log_tem', 'log_tec',\n",
    "       'log_teg', 'log_tnm', 'log_tnc',\n",
    "       'log_tng', 'logtim', 'log_tic',\n",
    "       'log_tig', 'log_csc']\n",
    "\n",
    "X_train_log = pd.DataFrame(log_transformer.fit_transform(X_train[log_columns]),\n",
    "                           columns=new_log_columns, index=X_train.index)\n",
    "\n",
    "X_train = pd.concat([X_train.drop(log_columns, axis=1), X_train_log], axis=1)\n",
    "X_train\n"
   ]
  },
  {
   "cell_type": "markdown",
   "metadata": {
    "id": "MBlvE13FO44x"
   },
   "source": [
    "#Target Audience and Dataset Choice"
   ]
  },
  {
   "cell_type": "code",
   "execution_count": 15,
   "metadata": {
    "colab": {
     "base_uri": "https://localhost:8080/",
     "height": 478
    },
    "id": "duusF61oulGs",
    "outputId": "3c4fa325-bcf8-4b5e-f954-baafa5c42747"
   },
   "outputs": [
    {
     "name": "stderr",
     "output_type": "stream",
     "text": [
      "C:\\Users\\kuta\\anaconda3\\lib\\site-packages\\sklearn\\preprocessing\\_function_transformer.py:205: RuntimeWarning: divide by zero encountered in log\n",
      "  return func(X, **(kw_args if kw_args else {}))\n"
     ]
    },
    {
     "data": {
      "text/html": [
       "<div>\n",
       "<style scoped>\n",
       "    .dataframe tbody tr th:only-of-type {\n",
       "        vertical-align: middle;\n",
       "    }\n",
       "\n",
       "    .dataframe tbody tr th {\n",
       "        vertical-align: top;\n",
       "    }\n",
       "\n",
       "    .dataframe thead th {\n",
       "        text-align: right;\n",
       "    }\n",
       "</style>\n",
       "<table border=\"1\" class=\"dataframe\">\n",
       "  <thead>\n",
       "    <tr style=\"text-align: right;\">\n",
       "      <th></th>\n",
       "      <th>log_nvm</th>\n",
       "      <th>log_tdm</th>\n",
       "      <th>log_tdc</th>\n",
       "      <th>log_tdg</th>\n",
       "      <th>log_tem</th>\n",
       "      <th>log_tec</th>\n",
       "      <th>log_teg</th>\n",
       "      <th>log_tnm</th>\n",
       "      <th>log_tnc</th>\n",
       "      <th>log_tng</th>\n",
       "      <th>logtim</th>\n",
       "      <th>log_tic</th>\n",
       "      <th>log_tig</th>\n",
       "      <th>log_csc</th>\n",
       "    </tr>\n",
       "  </thead>\n",
       "  <tbody>\n",
       "    <tr>\n",
       "      <th>438</th>\n",
       "      <td>-inf</td>\n",
       "      <td>5.043425</td>\n",
       "      <td>4.532599</td>\n",
       "      <td>3.271468</td>\n",
       "      <td>5.800909</td>\n",
       "      <td>4.663439</td>\n",
       "      <td>3.335770</td>\n",
       "      <td>5.243861</td>\n",
       "      <td>4.812184</td>\n",
       "      <td>2.142416</td>\n",
       "      <td>2.602690</td>\n",
       "      <td>1.098612</td>\n",
       "      <td>1.294727</td>\n",
       "      <td>0.000000</td>\n",
       "    </tr>\n",
       "    <tr>\n",
       "      <th>2674</th>\n",
       "      <td>-inf</td>\n",
       "      <td>4.692265</td>\n",
       "      <td>4.762174</td>\n",
       "      <td>2.920470</td>\n",
       "      <td>5.381739</td>\n",
       "      <td>4.820282</td>\n",
       "      <td>2.916689</td>\n",
       "      <td>5.238567</td>\n",
       "      <td>4.948760</td>\n",
       "      <td>2.137710</td>\n",
       "      <td>2.549445</td>\n",
       "      <td>1.791759</td>\n",
       "      <td>1.241269</td>\n",
       "      <td>-inf</td>\n",
       "    </tr>\n",
       "    <tr>\n",
       "      <th>1345</th>\n",
       "      <td>-inf</td>\n",
       "      <td>-inf</td>\n",
       "      <td>-inf</td>\n",
       "      <td>-inf</td>\n",
       "      <td>5.072671</td>\n",
       "      <td>4.867534</td>\n",
       "      <td>2.607861</td>\n",
       "      <td>5.118592</td>\n",
       "      <td>4.477337</td>\n",
       "      <td>2.017566</td>\n",
       "      <td>1.916923</td>\n",
       "      <td>0.000000</td>\n",
       "      <td>0.609766</td>\n",
       "      <td>1.386294</td>\n",
       "    </tr>\n",
       "    <tr>\n",
       "      <th>1957</th>\n",
       "      <td>-inf</td>\n",
       "      <td>5.360353</td>\n",
       "      <td>4.369448</td>\n",
       "      <td>3.588506</td>\n",
       "      <td>5.318610</td>\n",
       "      <td>4.510860</td>\n",
       "      <td>2.853593</td>\n",
       "      <td>5.051137</td>\n",
       "      <td>4.727388</td>\n",
       "      <td>1.950187</td>\n",
       "      <td>2.322388</td>\n",
       "      <td>0.693147</td>\n",
       "      <td>1.011601</td>\n",
       "      <td>0.000000</td>\n",
       "    </tr>\n",
       "    <tr>\n",
       "      <th>2148</th>\n",
       "      <td>-inf</td>\n",
       "      <td>4.969813</td>\n",
       "      <td>4.624973</td>\n",
       "      <td>3.197856</td>\n",
       "      <td>5.414766</td>\n",
       "      <td>4.290459</td>\n",
       "      <td>2.949688</td>\n",
       "      <td>5.428029</td>\n",
       "      <td>4.510860</td>\n",
       "      <td>2.327278</td>\n",
       "      <td>2.302585</td>\n",
       "      <td>1.945910</td>\n",
       "      <td>0.993252</td>\n",
       "      <td>0.000000</td>\n",
       "    </tr>\n",
       "    <tr>\n",
       "      <th>...</th>\n",
       "      <td>...</td>\n",
       "      <td>...</td>\n",
       "      <td>...</td>\n",
       "      <td>...</td>\n",
       "      <td>...</td>\n",
       "      <td>...</td>\n",
       "      <td>...</td>\n",
       "      <td>...</td>\n",
       "      <td>...</td>\n",
       "      <td>...</td>\n",
       "      <td>...</td>\n",
       "      <td>...</td>\n",
       "      <td>...</td>\n",
       "      <td>...</td>\n",
       "    </tr>\n",
       "    <tr>\n",
       "      <th>2577</th>\n",
       "      <td>-inf</td>\n",
       "      <td>5.220896</td>\n",
       "      <td>4.521789</td>\n",
       "      <td>3.449035</td>\n",
       "      <td>5.361292</td>\n",
       "      <td>4.442651</td>\n",
       "      <td>2.896464</td>\n",
       "      <td>5.278625</td>\n",
       "      <td>4.442651</td>\n",
       "      <td>2.177022</td>\n",
       "      <td>2.140066</td>\n",
       "      <td>1.609438</td>\n",
       "      <td>0.832909</td>\n",
       "      <td>0.693147</td>\n",
       "    </tr>\n",
       "    <tr>\n",
       "      <th>2763</th>\n",
       "      <td>2.944439</td>\n",
       "      <td>5.047931</td>\n",
       "      <td>4.644391</td>\n",
       "      <td>3.276012</td>\n",
       "      <td>5.222516</td>\n",
       "      <td>4.770685</td>\n",
       "      <td>2.757475</td>\n",
       "      <td>5.261135</td>\n",
       "      <td>4.753590</td>\n",
       "      <td>2.159869</td>\n",
       "      <td>2.104134</td>\n",
       "      <td>0.693147</td>\n",
       "      <td>0.792993</td>\n",
       "      <td>1.098612</td>\n",
       "    </tr>\n",
       "    <tr>\n",
       "      <th>3069</th>\n",
       "      <td>3.258097</td>\n",
       "      <td>5.067016</td>\n",
       "      <td>4.510860</td>\n",
       "      <td>3.295096</td>\n",
       "      <td>5.078294</td>\n",
       "      <td>4.844187</td>\n",
       "      <td>2.613007</td>\n",
       "      <td>5.385870</td>\n",
       "      <td>4.477337</td>\n",
       "      <td>2.284421</td>\n",
       "      <td>2.292535</td>\n",
       "      <td>1.098612</td>\n",
       "      <td>0.982078</td>\n",
       "      <td>0.000000</td>\n",
       "    </tr>\n",
       "    <tr>\n",
       "      <th>1468</th>\n",
       "      <td>3.295837</td>\n",
       "      <td>4.766438</td>\n",
       "      <td>4.624973</td>\n",
       "      <td>2.994732</td>\n",
       "      <td>5.331752</td>\n",
       "      <td>4.844187</td>\n",
       "      <td>2.866762</td>\n",
       "      <td>5.269918</td>\n",
       "      <td>4.736198</td>\n",
       "      <td>2.169054</td>\n",
       "      <td>1.435085</td>\n",
       "      <td>1.945910</td>\n",
       "      <td>0.122218</td>\n",
       "      <td>1.098612</td>\n",
       "    </tr>\n",
       "    <tr>\n",
       "      <th>582</th>\n",
       "      <td>-inf</td>\n",
       "      <td>5.101085</td>\n",
       "      <td>4.691348</td>\n",
       "      <td>3.328985</td>\n",
       "      <td>5.046002</td>\n",
       "      <td>4.499810</td>\n",
       "      <td>2.580974</td>\n",
       "      <td>5.129307</td>\n",
       "      <td>4.762174</td>\n",
       "      <td>2.028148</td>\n",
       "      <td>2.370244</td>\n",
       "      <td>2.079442</td>\n",
       "      <td>1.061257</td>\n",
       "      <td>0.000000</td>\n",
       "    </tr>\n",
       "  </tbody>\n",
       "</table>\n",
       "<p>667 rows × 14 columns</p>\n",
       "</div>"
      ],
      "text/plain": [
       "       log_nvm   log_tdm   log_tdc   log_tdg   log_tem   log_tec   log_teg  \\\n",
       "438       -inf  5.043425  4.532599  3.271468  5.800909  4.663439  3.335770   \n",
       "2674      -inf  4.692265  4.762174  2.920470  5.381739  4.820282  2.916689   \n",
       "1345      -inf      -inf      -inf      -inf  5.072671  4.867534  2.607861   \n",
       "1957      -inf  5.360353  4.369448  3.588506  5.318610  4.510860  2.853593   \n",
       "2148      -inf  4.969813  4.624973  3.197856  5.414766  4.290459  2.949688   \n",
       "...        ...       ...       ...       ...       ...       ...       ...   \n",
       "2577      -inf  5.220896  4.521789  3.449035  5.361292  4.442651  2.896464   \n",
       "2763  2.944439  5.047931  4.644391  3.276012  5.222516  4.770685  2.757475   \n",
       "3069  3.258097  5.067016  4.510860  3.295096  5.078294  4.844187  2.613007   \n",
       "1468  3.295837  4.766438  4.624973  2.994732  5.331752  4.844187  2.866762   \n",
       "582       -inf  5.101085  4.691348  3.328985  5.046002  4.499810  2.580974   \n",
       "\n",
       "       log_tnm   log_tnc   log_tng    logtim   log_tic   log_tig   log_csc  \n",
       "438   5.243861  4.812184  2.142416  2.602690  1.098612  1.294727  0.000000  \n",
       "2674  5.238567  4.948760  2.137710  2.549445  1.791759  1.241269      -inf  \n",
       "1345  5.118592  4.477337  2.017566  1.916923  0.000000  0.609766  1.386294  \n",
       "1957  5.051137  4.727388  1.950187  2.322388  0.693147  1.011601  0.000000  \n",
       "2148  5.428029  4.510860  2.327278  2.302585  1.945910  0.993252  0.000000  \n",
       "...        ...       ...       ...       ...       ...       ...       ...  \n",
       "2577  5.278625  4.442651  2.177022  2.140066  1.609438  0.832909  0.693147  \n",
       "2763  5.261135  4.753590  2.159869  2.104134  0.693147  0.792993  1.098612  \n",
       "3069  5.385870  4.477337  2.284421  2.292535  1.098612  0.982078  0.000000  \n",
       "1468  5.269918  4.736198  2.169054  1.435085  1.945910  0.122218  1.098612  \n",
       "582   5.129307  4.762174  2.028148  2.370244  2.079442  1.061257  0.000000  \n",
       "\n",
       "[667 rows x 14 columns]"
      ]
     },
     "execution_count": 15,
     "metadata": {},
     "output_type": "execute_result"
    }
   ],
   "source": [
    "X_test_log = pd.DataFrame(log_transformer.transform(X_test[log_columns]),\n",
    "                          columns=new_log_columns, index=X_test.index)\n",
    "\n",
    "X_test = pd.concat([X_test.drop(log_columns, axis=1), X_test_log], axis=1)\n",
    "X_test"
   ]
  },
  {
   "cell_type": "markdown",
   "metadata": {
    "id": "59QpHzYLutpy"
   },
   "source": [
    "## One Hot Encoding\n",
    "\n",
    "We thereafter improve on it by use of One Hot Encoding as below"
   ]
  },
  {
   "cell_type": "code",
   "execution_count": 16,
   "metadata": {
    "id": "XuvESv4eur_0"
   },
   "outputs": [],
   "source": [
    "from sklearn.preprocessing import OneHotEncoder\n",
    "\n",
    "ohe = OneHotEncoder(handle_unknown='ignore', sparse=False)\n",
    "\n",
    "cat_columns = [col for col in X.columns if X[col].dtype in [object]]\n",
    "X_train_cat = X_train.loc[:, cat_columns]\n",
    "\n",
    "X_train_cat.fillna(value='missing', inplace=True)\n",
    "\n",
    "X_train_ohe = pd.DataFrame(ohe.fit_transform(X_train_cat),\n",
    "                           columns=cat_columns, index=X_train.index)"
   ]
  },
  {
   "cell_type": "code",
   "execution_count": 17,
   "metadata": {
    "id": "VEDRTLyruzRy"
   },
   "outputs": [],
   "source": [
    "X_test_cat = pd.DataFrame(ohe.transform(X_test[cat_columns]),\n",
    "                           columns=cat_columns, index=X_test.index)\n",
    "\n",
    "X_test_cat.fillna(value='missing', inplace=True)\n",
    "X_test_cat.drop(X_train_cat == '-inf')\n",
    "\n",
    "X_test_ohe = pd.DataFrame(ohe.fit_transform(X_test_cat),\n",
    "                           columns=cat_columns, index=X_test.index)"
   ]
  },
  {
   "cell_type": "markdown",
   "metadata": {
    "id": "BNtO7K66u53R"
   },
   "source": [
    "# Evaluation\n",
    "\n",
    "Building, Evaluating, and Validating the Model"
   ]
  },
  {
   "cell_type": "code",
   "execution_count": 18,
   "metadata": {
    "colab": {
     "base_uri": "https://localhost:8080/",
     "height": 407
    },
    "id": "UxOQ7t6Zu7a7",
    "outputId": "91d6b5d4-07f6-46a5-dae7-0d7f660f0974"
   },
   "outputs": [
    {
     "ename": "ValueError",
     "evalue": "Input contains NaN, infinity or a value too large for dtype('float64').",
     "output_type": "error",
     "traceback": [
      "\u001b[1;31m---------------------------------------------------------------------------\u001b[0m",
      "\u001b[1;31mValueError\u001b[0m                                Traceback (most recent call last)",
      "\u001b[1;32m~\\AppData\\Local\\Temp\\ipykernel_28000\\3259245223.py\u001b[0m in \u001b[0;36m<module>\u001b[1;34m\u001b[0m\n\u001b[0;32m      1\u001b[0m \u001b[1;32mfrom\u001b[0m \u001b[0msklearn\u001b[0m\u001b[1;33m.\u001b[0m\u001b[0mlinear_model\u001b[0m \u001b[1;32mimport\u001b[0m \u001b[0mLinearRegression\u001b[0m\u001b[1;33m\u001b[0m\u001b[1;33m\u001b[0m\u001b[0m\n\u001b[0;32m      2\u001b[0m \u001b[0mlinreg\u001b[0m \u001b[1;33m=\u001b[0m \u001b[0mLinearRegression\u001b[0m\u001b[1;33m(\u001b[0m\u001b[1;33m)\u001b[0m\u001b[1;33m\u001b[0m\u001b[1;33m\u001b[0m\u001b[0m\n\u001b[1;32m----> 3\u001b[1;33m \u001b[0mlinreg\u001b[0m\u001b[1;33m.\u001b[0m\u001b[0mfit\u001b[0m\u001b[1;33m(\u001b[0m\u001b[0mX_train\u001b[0m\u001b[1;33m,\u001b[0m \u001b[0my_train\u001b[0m\u001b[1;33m)\u001b[0m\u001b[1;33m\u001b[0m\u001b[1;33m\u001b[0m\u001b[0m\n\u001b[0m\u001b[0;32m      4\u001b[0m \u001b[1;33m\u001b[0m\u001b[0m\n\u001b[0;32m      5\u001b[0m \u001b[0my_hat_train\u001b[0m \u001b[1;33m=\u001b[0m \u001b[0mlinreg\u001b[0m\u001b[1;33m.\u001b[0m\u001b[0mpredict\u001b[0m\u001b[1;33m(\u001b[0m\u001b[0mX_train\u001b[0m\u001b[1;33m)\u001b[0m\u001b[1;33m\u001b[0m\u001b[1;33m\u001b[0m\u001b[0m\n",
      "\u001b[1;32m~\\anaconda3\\lib\\site-packages\\sklearn\\linear_model\\_base.py\u001b[0m in \u001b[0;36mfit\u001b[1;34m(self, X, y, sample_weight)\u001b[0m\n\u001b[0;32m    660\u001b[0m         \u001b[0maccept_sparse\u001b[0m \u001b[1;33m=\u001b[0m \u001b[1;32mFalse\u001b[0m \u001b[1;32mif\u001b[0m \u001b[0mself\u001b[0m\u001b[1;33m.\u001b[0m\u001b[0mpositive\u001b[0m \u001b[1;32melse\u001b[0m \u001b[1;33m[\u001b[0m\u001b[1;34m\"csr\"\u001b[0m\u001b[1;33m,\u001b[0m \u001b[1;34m\"csc\"\u001b[0m\u001b[1;33m,\u001b[0m \u001b[1;34m\"coo\"\u001b[0m\u001b[1;33m]\u001b[0m\u001b[1;33m\u001b[0m\u001b[1;33m\u001b[0m\u001b[0m\n\u001b[0;32m    661\u001b[0m \u001b[1;33m\u001b[0m\u001b[0m\n\u001b[1;32m--> 662\u001b[1;33m         X, y = self._validate_data(\n\u001b[0m\u001b[0;32m    663\u001b[0m             \u001b[0mX\u001b[0m\u001b[1;33m,\u001b[0m \u001b[0my\u001b[0m\u001b[1;33m,\u001b[0m \u001b[0maccept_sparse\u001b[0m\u001b[1;33m=\u001b[0m\u001b[0maccept_sparse\u001b[0m\u001b[1;33m,\u001b[0m \u001b[0my_numeric\u001b[0m\u001b[1;33m=\u001b[0m\u001b[1;32mTrue\u001b[0m\u001b[1;33m,\u001b[0m \u001b[0mmulti_output\u001b[0m\u001b[1;33m=\u001b[0m\u001b[1;32mTrue\u001b[0m\u001b[1;33m\u001b[0m\u001b[1;33m\u001b[0m\u001b[0m\n\u001b[0;32m    664\u001b[0m         )\n",
      "\u001b[1;32m~\\anaconda3\\lib\\site-packages\\sklearn\\base.py\u001b[0m in \u001b[0;36m_validate_data\u001b[1;34m(self, X, y, reset, validate_separately, **check_params)\u001b[0m\n\u001b[0;32m    579\u001b[0m                 \u001b[0my\u001b[0m \u001b[1;33m=\u001b[0m \u001b[0mcheck_array\u001b[0m\u001b[1;33m(\u001b[0m\u001b[0my\u001b[0m\u001b[1;33m,\u001b[0m \u001b[1;33m**\u001b[0m\u001b[0mcheck_y_params\u001b[0m\u001b[1;33m)\u001b[0m\u001b[1;33m\u001b[0m\u001b[1;33m\u001b[0m\u001b[0m\n\u001b[0;32m    580\u001b[0m             \u001b[1;32melse\u001b[0m\u001b[1;33m:\u001b[0m\u001b[1;33m\u001b[0m\u001b[1;33m\u001b[0m\u001b[0m\n\u001b[1;32m--> 581\u001b[1;33m                 \u001b[0mX\u001b[0m\u001b[1;33m,\u001b[0m \u001b[0my\u001b[0m \u001b[1;33m=\u001b[0m \u001b[0mcheck_X_y\u001b[0m\u001b[1;33m(\u001b[0m\u001b[0mX\u001b[0m\u001b[1;33m,\u001b[0m \u001b[0my\u001b[0m\u001b[1;33m,\u001b[0m \u001b[1;33m**\u001b[0m\u001b[0mcheck_params\u001b[0m\u001b[1;33m)\u001b[0m\u001b[1;33m\u001b[0m\u001b[1;33m\u001b[0m\u001b[0m\n\u001b[0m\u001b[0;32m    582\u001b[0m             \u001b[0mout\u001b[0m \u001b[1;33m=\u001b[0m \u001b[0mX\u001b[0m\u001b[1;33m,\u001b[0m \u001b[0my\u001b[0m\u001b[1;33m\u001b[0m\u001b[1;33m\u001b[0m\u001b[0m\n\u001b[0;32m    583\u001b[0m \u001b[1;33m\u001b[0m\u001b[0m\n",
      "\u001b[1;32m~\\anaconda3\\lib\\site-packages\\sklearn\\utils\\validation.py\u001b[0m in \u001b[0;36mcheck_X_y\u001b[1;34m(X, y, accept_sparse, accept_large_sparse, dtype, order, copy, force_all_finite, ensure_2d, allow_nd, multi_output, ensure_min_samples, ensure_min_features, y_numeric, estimator)\u001b[0m\n\u001b[0;32m    962\u001b[0m         \u001b[1;32mraise\u001b[0m \u001b[0mValueError\u001b[0m\u001b[1;33m(\u001b[0m\u001b[1;34m\"y cannot be None\"\u001b[0m\u001b[1;33m)\u001b[0m\u001b[1;33m\u001b[0m\u001b[1;33m\u001b[0m\u001b[0m\n\u001b[0;32m    963\u001b[0m \u001b[1;33m\u001b[0m\u001b[0m\n\u001b[1;32m--> 964\u001b[1;33m     X = check_array(\n\u001b[0m\u001b[0;32m    965\u001b[0m         \u001b[0mX\u001b[0m\u001b[1;33m,\u001b[0m\u001b[1;33m\u001b[0m\u001b[1;33m\u001b[0m\u001b[0m\n\u001b[0;32m    966\u001b[0m         \u001b[0maccept_sparse\u001b[0m\u001b[1;33m=\u001b[0m\u001b[0maccept_sparse\u001b[0m\u001b[1;33m,\u001b[0m\u001b[1;33m\u001b[0m\u001b[1;33m\u001b[0m\u001b[0m\n",
      "\u001b[1;32m~\\anaconda3\\lib\\site-packages\\sklearn\\utils\\validation.py\u001b[0m in \u001b[0;36mcheck_array\u001b[1;34m(array, accept_sparse, accept_large_sparse, dtype, order, copy, force_all_finite, ensure_2d, allow_nd, ensure_min_samples, ensure_min_features, estimator)\u001b[0m\n\u001b[0;32m    798\u001b[0m \u001b[1;33m\u001b[0m\u001b[0m\n\u001b[0;32m    799\u001b[0m         \u001b[1;32mif\u001b[0m \u001b[0mforce_all_finite\u001b[0m\u001b[1;33m:\u001b[0m\u001b[1;33m\u001b[0m\u001b[1;33m\u001b[0m\u001b[0m\n\u001b[1;32m--> 800\u001b[1;33m             \u001b[0m_assert_all_finite\u001b[0m\u001b[1;33m(\u001b[0m\u001b[0marray\u001b[0m\u001b[1;33m,\u001b[0m \u001b[0mallow_nan\u001b[0m\u001b[1;33m=\u001b[0m\u001b[0mforce_all_finite\u001b[0m \u001b[1;33m==\u001b[0m \u001b[1;34m\"allow-nan\"\u001b[0m\u001b[1;33m)\u001b[0m\u001b[1;33m\u001b[0m\u001b[1;33m\u001b[0m\u001b[0m\n\u001b[0m\u001b[0;32m    801\u001b[0m \u001b[1;33m\u001b[0m\u001b[0m\n\u001b[0;32m    802\u001b[0m     \u001b[1;32mif\u001b[0m \u001b[0mensure_min_samples\u001b[0m \u001b[1;33m>\u001b[0m \u001b[1;36m0\u001b[0m\u001b[1;33m:\u001b[0m\u001b[1;33m\u001b[0m\u001b[1;33m\u001b[0m\u001b[0m\n",
      "\u001b[1;32m~\\anaconda3\\lib\\site-packages\\sklearn\\utils\\validation.py\u001b[0m in \u001b[0;36m_assert_all_finite\u001b[1;34m(X, allow_nan, msg_dtype)\u001b[0m\n\u001b[0;32m    112\u001b[0m         ):\n\u001b[0;32m    113\u001b[0m             \u001b[0mtype_err\u001b[0m \u001b[1;33m=\u001b[0m \u001b[1;34m\"infinity\"\u001b[0m \u001b[1;32mif\u001b[0m \u001b[0mallow_nan\u001b[0m \u001b[1;32melse\u001b[0m \u001b[1;34m\"NaN, infinity\"\u001b[0m\u001b[1;33m\u001b[0m\u001b[1;33m\u001b[0m\u001b[0m\n\u001b[1;32m--> 114\u001b[1;33m             raise ValueError(\n\u001b[0m\u001b[0;32m    115\u001b[0m                 msg_err.format(\n\u001b[0;32m    116\u001b[0m                     \u001b[0mtype_err\u001b[0m\u001b[1;33m,\u001b[0m \u001b[0mmsg_dtype\u001b[0m \u001b[1;32mif\u001b[0m \u001b[0mmsg_dtype\u001b[0m \u001b[1;32mis\u001b[0m \u001b[1;32mnot\u001b[0m \u001b[1;32mNone\u001b[0m \u001b[1;32melse\u001b[0m \u001b[0mX\u001b[0m\u001b[1;33m.\u001b[0m\u001b[0mdtype\u001b[0m\u001b[1;33m\u001b[0m\u001b[1;33m\u001b[0m\u001b[0m\n",
      "\u001b[1;31mValueError\u001b[0m: Input contains NaN, infinity or a value too large for dtype('float64')."
     ]
    }
   ],
   "source": [
    "from sklearn.linear_model import LinearRegression\n",
    "linreg = LinearRegression()\n",
    "linreg.fit(X_train, y_train)\n",
    "\n",
    "y_hat_train = linreg.predict(X_train)\n",
    "y_hat_test = linreg.predict(X_test)\n",
    "\n",
    "train_residuals = y_hat_train - y_train\n",
    "test_residuals = y_hat_test - y_test\n",
    "\n",
    "mse_train = np.sum((y_train - y_hat_train)**2)/len(y_train)\n",
    "mse_test = np.sum((y_test - y_hat_test)**2)/len(y_test)\n",
    "print('Train Mean Squared Error:', mse_train)\n",
    "print('Test Mean Squared Error:', mse_test)"
   ]
  },
  {
   "cell_type": "code",
   "execution_count": 19,
   "metadata": {
    "colab": {
     "base_uri": "https://localhost:8080/",
     "height": 245
    },
    "id": "Xv9EdewEu9G2",
    "outputId": "49fec1af-7fd8-4604-d0e0-19deaf0191e5"
   },
   "outputs": [
    {
     "ename": "NameError",
     "evalue": "name 'y_hat_train' is not defined",
     "output_type": "error",
     "traceback": [
      "\u001b[1;31m---------------------------------------------------------------------------\u001b[0m",
      "\u001b[1;31mNameError\u001b[0m                                 Traceback (most recent call last)",
      "\u001b[1;32m~\\AppData\\Local\\Temp\\ipykernel_28000\\1080736140.py\u001b[0m in \u001b[0;36m<module>\u001b[1;34m\u001b[0m\n\u001b[0;32m      1\u001b[0m \u001b[1;32mfrom\u001b[0m \u001b[0msklearn\u001b[0m\u001b[1;33m.\u001b[0m\u001b[0mmetrics\u001b[0m \u001b[1;32mimport\u001b[0m \u001b[0mmean_squared_error\u001b[0m\u001b[1;33m\u001b[0m\u001b[1;33m\u001b[0m\u001b[0m\n\u001b[0;32m      2\u001b[0m \u001b[1;33m\u001b[0m\u001b[0m\n\u001b[1;32m----> 3\u001b[1;33m \u001b[0mtrain_mse\u001b[0m \u001b[1;33m=\u001b[0m \u001b[0mmean_squared_error\u001b[0m\u001b[1;33m(\u001b[0m\u001b[0my_train\u001b[0m\u001b[1;33m,\u001b[0m \u001b[0my_hat_train\u001b[0m\u001b[1;33m)\u001b[0m\u001b[1;33m\u001b[0m\u001b[1;33m\u001b[0m\u001b[0m\n\u001b[0m\u001b[0;32m      4\u001b[0m \u001b[0mtest_mse\u001b[0m \u001b[1;33m=\u001b[0m \u001b[0mmean_squared_error\u001b[0m\u001b[1;33m(\u001b[0m\u001b[0my_test\u001b[0m\u001b[1;33m,\u001b[0m \u001b[0my_hat_test\u001b[0m\u001b[1;33m)\u001b[0m\u001b[1;33m\u001b[0m\u001b[1;33m\u001b[0m\u001b[0m\n\u001b[0;32m      5\u001b[0m \u001b[0mprint\u001b[0m\u001b[1;33m(\u001b[0m\u001b[1;34m'Train Mean Squared Error:'\u001b[0m\u001b[1;33m,\u001b[0m \u001b[0mtrain_mse\u001b[0m\u001b[1;33m)\u001b[0m\u001b[1;33m\u001b[0m\u001b[1;33m\u001b[0m\u001b[0m\n",
      "\u001b[1;31mNameError\u001b[0m: name 'y_hat_train' is not defined"
     ]
    }
   ],
   "source": [
    "from sklearn.metrics import mean_squared_error\n",
    "\n",
    "train_mse = mean_squared_error(y_train, y_hat_train)\n",
    "test_mse = mean_squared_error(y_test, y_hat_test)\n",
    "print('Train Mean Squared Error:', train_mse)\n",
    "print('Test Mean Squared Error:', test_mse)"
   ]
  },
  {
   "cell_type": "code",
   "execution_count": 20,
   "metadata": {
    "colab": {
     "base_uri": "https://localhost:8080/",
     "height": 338
    },
    "id": "sAThXlYPhT9Y",
    "outputId": "b3a9a7e6-a393-409f-eaa2-07bf109571b6"
   },
   "outputs": [
    {
     "ename": "ValueError",
     "evalue": "Input contains NaN, infinity or a value too large for dtype('float64').",
     "output_type": "error",
     "traceback": [
      "\u001b[1;31m---------------------------------------------------------------------------\u001b[0m",
      "\u001b[1;31mValueError\u001b[0m                                Traceback (most recent call last)",
      "\u001b[1;32m~\\AppData\\Local\\Temp\\ipykernel_28000\\2141724561.py\u001b[0m in \u001b[0;36m<module>\u001b[1;34m\u001b[0m\n\u001b[1;32m----> 1\u001b[1;33m \u001b[0mreg\u001b[0m \u001b[1;33m=\u001b[0m \u001b[0mLinearRegression\u001b[0m\u001b[1;33m(\u001b[0m\u001b[1;33m)\u001b[0m\u001b[1;33m.\u001b[0m\u001b[0mfit\u001b[0m\u001b[1;33m(\u001b[0m\u001b[0mX_train\u001b[0m\u001b[1;33m,\u001b[0m \u001b[0my_train\u001b[0m\u001b[1;33m)\u001b[0m\u001b[1;33m\u001b[0m\u001b[1;33m\u001b[0m\u001b[0m\n\u001b[0m",
      "\u001b[1;32m~\\anaconda3\\lib\\site-packages\\sklearn\\linear_model\\_base.py\u001b[0m in \u001b[0;36mfit\u001b[1;34m(self, X, y, sample_weight)\u001b[0m\n\u001b[0;32m    660\u001b[0m         \u001b[0maccept_sparse\u001b[0m \u001b[1;33m=\u001b[0m \u001b[1;32mFalse\u001b[0m \u001b[1;32mif\u001b[0m \u001b[0mself\u001b[0m\u001b[1;33m.\u001b[0m\u001b[0mpositive\u001b[0m \u001b[1;32melse\u001b[0m \u001b[1;33m[\u001b[0m\u001b[1;34m\"csr\"\u001b[0m\u001b[1;33m,\u001b[0m \u001b[1;34m\"csc\"\u001b[0m\u001b[1;33m,\u001b[0m \u001b[1;34m\"coo\"\u001b[0m\u001b[1;33m]\u001b[0m\u001b[1;33m\u001b[0m\u001b[1;33m\u001b[0m\u001b[0m\n\u001b[0;32m    661\u001b[0m \u001b[1;33m\u001b[0m\u001b[0m\n\u001b[1;32m--> 662\u001b[1;33m         X, y = self._validate_data(\n\u001b[0m\u001b[0;32m    663\u001b[0m             \u001b[0mX\u001b[0m\u001b[1;33m,\u001b[0m \u001b[0my\u001b[0m\u001b[1;33m,\u001b[0m \u001b[0maccept_sparse\u001b[0m\u001b[1;33m=\u001b[0m\u001b[0maccept_sparse\u001b[0m\u001b[1;33m,\u001b[0m \u001b[0my_numeric\u001b[0m\u001b[1;33m=\u001b[0m\u001b[1;32mTrue\u001b[0m\u001b[1;33m,\u001b[0m \u001b[0mmulti_output\u001b[0m\u001b[1;33m=\u001b[0m\u001b[1;32mTrue\u001b[0m\u001b[1;33m\u001b[0m\u001b[1;33m\u001b[0m\u001b[0m\n\u001b[0;32m    664\u001b[0m         )\n",
      "\u001b[1;32m~\\anaconda3\\lib\\site-packages\\sklearn\\base.py\u001b[0m in \u001b[0;36m_validate_data\u001b[1;34m(self, X, y, reset, validate_separately, **check_params)\u001b[0m\n\u001b[0;32m    579\u001b[0m                 \u001b[0my\u001b[0m \u001b[1;33m=\u001b[0m \u001b[0mcheck_array\u001b[0m\u001b[1;33m(\u001b[0m\u001b[0my\u001b[0m\u001b[1;33m,\u001b[0m \u001b[1;33m**\u001b[0m\u001b[0mcheck_y_params\u001b[0m\u001b[1;33m)\u001b[0m\u001b[1;33m\u001b[0m\u001b[1;33m\u001b[0m\u001b[0m\n\u001b[0;32m    580\u001b[0m             \u001b[1;32melse\u001b[0m\u001b[1;33m:\u001b[0m\u001b[1;33m\u001b[0m\u001b[1;33m\u001b[0m\u001b[0m\n\u001b[1;32m--> 581\u001b[1;33m                 \u001b[0mX\u001b[0m\u001b[1;33m,\u001b[0m \u001b[0my\u001b[0m \u001b[1;33m=\u001b[0m \u001b[0mcheck_X_y\u001b[0m\u001b[1;33m(\u001b[0m\u001b[0mX\u001b[0m\u001b[1;33m,\u001b[0m \u001b[0my\u001b[0m\u001b[1;33m,\u001b[0m \u001b[1;33m**\u001b[0m\u001b[0mcheck_params\u001b[0m\u001b[1;33m)\u001b[0m\u001b[1;33m\u001b[0m\u001b[1;33m\u001b[0m\u001b[0m\n\u001b[0m\u001b[0;32m    582\u001b[0m             \u001b[0mout\u001b[0m \u001b[1;33m=\u001b[0m \u001b[0mX\u001b[0m\u001b[1;33m,\u001b[0m \u001b[0my\u001b[0m\u001b[1;33m\u001b[0m\u001b[1;33m\u001b[0m\u001b[0m\n\u001b[0;32m    583\u001b[0m \u001b[1;33m\u001b[0m\u001b[0m\n",
      "\u001b[1;32m~\\anaconda3\\lib\\site-packages\\sklearn\\utils\\validation.py\u001b[0m in \u001b[0;36mcheck_X_y\u001b[1;34m(X, y, accept_sparse, accept_large_sparse, dtype, order, copy, force_all_finite, ensure_2d, allow_nd, multi_output, ensure_min_samples, ensure_min_features, y_numeric, estimator)\u001b[0m\n\u001b[0;32m    962\u001b[0m         \u001b[1;32mraise\u001b[0m \u001b[0mValueError\u001b[0m\u001b[1;33m(\u001b[0m\u001b[1;34m\"y cannot be None\"\u001b[0m\u001b[1;33m)\u001b[0m\u001b[1;33m\u001b[0m\u001b[1;33m\u001b[0m\u001b[0m\n\u001b[0;32m    963\u001b[0m \u001b[1;33m\u001b[0m\u001b[0m\n\u001b[1;32m--> 964\u001b[1;33m     X = check_array(\n\u001b[0m\u001b[0;32m    965\u001b[0m         \u001b[0mX\u001b[0m\u001b[1;33m,\u001b[0m\u001b[1;33m\u001b[0m\u001b[1;33m\u001b[0m\u001b[0m\n\u001b[0;32m    966\u001b[0m         \u001b[0maccept_sparse\u001b[0m\u001b[1;33m=\u001b[0m\u001b[0maccept_sparse\u001b[0m\u001b[1;33m,\u001b[0m\u001b[1;33m\u001b[0m\u001b[1;33m\u001b[0m\u001b[0m\n",
      "\u001b[1;32m~\\anaconda3\\lib\\site-packages\\sklearn\\utils\\validation.py\u001b[0m in \u001b[0;36mcheck_array\u001b[1;34m(array, accept_sparse, accept_large_sparse, dtype, order, copy, force_all_finite, ensure_2d, allow_nd, ensure_min_samples, ensure_min_features, estimator)\u001b[0m\n\u001b[0;32m    798\u001b[0m \u001b[1;33m\u001b[0m\u001b[0m\n\u001b[0;32m    799\u001b[0m         \u001b[1;32mif\u001b[0m \u001b[0mforce_all_finite\u001b[0m\u001b[1;33m:\u001b[0m\u001b[1;33m\u001b[0m\u001b[1;33m\u001b[0m\u001b[0m\n\u001b[1;32m--> 800\u001b[1;33m             \u001b[0m_assert_all_finite\u001b[0m\u001b[1;33m(\u001b[0m\u001b[0marray\u001b[0m\u001b[1;33m,\u001b[0m \u001b[0mallow_nan\u001b[0m\u001b[1;33m=\u001b[0m\u001b[0mforce_all_finite\u001b[0m \u001b[1;33m==\u001b[0m \u001b[1;34m\"allow-nan\"\u001b[0m\u001b[1;33m)\u001b[0m\u001b[1;33m\u001b[0m\u001b[1;33m\u001b[0m\u001b[0m\n\u001b[0m\u001b[0;32m    801\u001b[0m \u001b[1;33m\u001b[0m\u001b[0m\n\u001b[0;32m    802\u001b[0m     \u001b[1;32mif\u001b[0m \u001b[0mensure_min_samples\u001b[0m \u001b[1;33m>\u001b[0m \u001b[1;36m0\u001b[0m\u001b[1;33m:\u001b[0m\u001b[1;33m\u001b[0m\u001b[1;33m\u001b[0m\u001b[0m\n",
      "\u001b[1;32m~\\anaconda3\\lib\\site-packages\\sklearn\\utils\\validation.py\u001b[0m in \u001b[0;36m_assert_all_finite\u001b[1;34m(X, allow_nan, msg_dtype)\u001b[0m\n\u001b[0;32m    112\u001b[0m         ):\n\u001b[0;32m    113\u001b[0m             \u001b[0mtype_err\u001b[0m \u001b[1;33m=\u001b[0m \u001b[1;34m\"infinity\"\u001b[0m \u001b[1;32mif\u001b[0m \u001b[0mallow_nan\u001b[0m \u001b[1;32melse\u001b[0m \u001b[1;34m\"NaN, infinity\"\u001b[0m\u001b[1;33m\u001b[0m\u001b[1;33m\u001b[0m\u001b[0m\n\u001b[1;32m--> 114\u001b[1;33m             raise ValueError(\n\u001b[0m\u001b[0;32m    115\u001b[0m                 msg_err.format(\n\u001b[0;32m    116\u001b[0m                     \u001b[0mtype_err\u001b[0m\u001b[1;33m,\u001b[0m \u001b[0mmsg_dtype\u001b[0m \u001b[1;32mif\u001b[0m \u001b[0mmsg_dtype\u001b[0m \u001b[1;32mis\u001b[0m \u001b[1;32mnot\u001b[0m \u001b[1;32mNone\u001b[0m \u001b[1;32melse\u001b[0m \u001b[0mX\u001b[0m\u001b[1;33m.\u001b[0m\u001b[0mdtype\u001b[0m\u001b[1;33m\u001b[0m\u001b[1;33m\u001b[0m\u001b[0m\n",
      "\u001b[1;31mValueError\u001b[0m: Input contains NaN, infinity or a value too large for dtype('float64')."
     ]
    }
   ],
   "source": [
    "reg = LinearRegression().fit(X_train, y_train)"
   ]
  },
  {
   "cell_type": "code",
   "execution_count": 22,
   "metadata": {
    "colab": {
     "base_uri": "https://localhost:8080/",
     "height": 245
    },
    "id": "3mPmf8VmhcCd",
    "outputId": "88f16a45-47d7-4aa8-be59-413f84ab2fce"
   },
   "outputs": [
    {
     "ename": "NameError",
     "evalue": "name 'PolynomialFeatures' is not defined",
     "output_type": "error",
     "traceback": [
      "\u001b[1;31m---------------------------------------------------------------------------\u001b[0m",
      "\u001b[1;31mNameError\u001b[0m                                 Traceback (most recent call last)",
      "\u001b[1;32m~\\AppData\\Local\\Temp\\ipykernel_28000\\4214741341.py\u001b[0m in \u001b[0;36m<module>\u001b[1;34m\u001b[0m\n\u001b[1;32m----> 1\u001b[1;33m \u001b[0mpoly\u001b[0m \u001b[1;33m=\u001b[0m \u001b[0mPolynomialFeatures\u001b[0m\u001b[1;33m(\u001b[0m\u001b[1;36m2\u001b[0m\u001b[1;33m)\u001b[0m\u001b[1;33m\u001b[0m\u001b[1;33m\u001b[0m\u001b[0m\n\u001b[0m\u001b[0;32m      2\u001b[0m \u001b[1;33m\u001b[0m\u001b[0m\n\u001b[0;32m      3\u001b[0m \u001b[0mpoly_2\u001b[0m \u001b[1;33m=\u001b[0m \u001b[0mPolynomialFeatures\u001b[0m\u001b[1;33m(\u001b[0m\u001b[1;36m4\u001b[0m\u001b[1;33m)\u001b[0m\u001b[1;33m\u001b[0m\u001b[1;33m\u001b[0m\u001b[0m\n\u001b[0;32m      4\u001b[0m \u001b[1;33m\u001b[0m\u001b[0m\n\u001b[0;32m      5\u001b[0m \u001b[0mreg_poly\u001b[0m \u001b[1;33m=\u001b[0m \u001b[0mLinearRegression\u001b[0m\u001b[1;33m(\u001b[0m\u001b[1;33m)\u001b[0m\u001b[1;33m.\u001b[0m\u001b[0mfit\u001b[0m\u001b[1;33m(\u001b[0m\u001b[0mpoly\u001b[0m\u001b[1;33m.\u001b[0m\u001b[0mfit_transform\u001b[0m\u001b[1;33m(\u001b[0m\u001b[0mX_train\u001b[0m\u001b[1;33m)\u001b[0m\u001b[1;33m,\u001b[0m \u001b[0my_train\u001b[0m\u001b[1;33m)\u001b[0m\u001b[1;33m\u001b[0m\u001b[1;33m\u001b[0m\u001b[0m\n",
      "\u001b[1;31mNameError\u001b[0m: name 'PolynomialFeatures' is not defined"
     ]
    }
   ],
   "source": [
    "poly = PolynomialFeatures(2)\n",
    "\n",
    "poly_2 = PolynomialFeatures(4)\n",
    "\n",
    "reg_poly = LinearRegression().fit(poly.fit_transform(X_train), y_train)\n",
    "\n",
    "reg_poly_2 = LinearRegression().fit(poly_2.fit_transform(X_train), y_train)"
   ]
  },
  {
   "cell_type": "code",
   "execution_count": 23,
   "metadata": {
    "id": "1f_hoa5Rh0RX"
   },
   "outputs": [
    {
     "ename": "NameError",
     "evalue": "name 'reg' is not defined",
     "output_type": "error",
     "traceback": [
      "\u001b[1;31m---------------------------------------------------------------------------\u001b[0m",
      "\u001b[1;31mNameError\u001b[0m                                 Traceback (most recent call last)",
      "\u001b[1;32m~\\AppData\\Local\\Temp\\ipykernel_28000\\2095095322.py\u001b[0m in \u001b[0;36m<module>\u001b[1;34m\u001b[0m\n\u001b[0;32m      1\u001b[0m print(f\"\"\"\n\u001b[0;32m      2\u001b[0m \u001b[0mSimple\u001b[0m \u001b[0mLinear\u001b[0m \u001b[0mRegression\u001b[0m\u001b[1;33m\u001b[0m\u001b[1;33m\u001b[0m\u001b[0m\n\u001b[1;32m----> 3\u001b[1;33m \u001b[0mTrain\u001b[0m \u001b[0mMSE\u001b[0m\u001b[1;33m:\u001b[0m \u001b[1;33m{\u001b[0m\u001b[0mmean_squared_error\u001b[0m\u001b[1;33m(\u001b[0m\u001b[0my_train\u001b[0m\u001b[1;33m,\u001b[0m \u001b[0mreg\u001b[0m\u001b[1;33m.\u001b[0m\u001b[0mpredict\u001b[0m\u001b[1;33m(\u001b[0m\u001b[0mX_train\u001b[0m\u001b[1;33m)\u001b[0m\u001b[1;33m)\u001b[0m\u001b[1;33m}\u001b[0m\u001b[1;33m\u001b[0m\u001b[1;33m\u001b[0m\u001b[0m\n\u001b[0m\u001b[0;32m      4\u001b[0m \u001b[0mTest\u001b[0m \u001b[0mMSE\u001b[0m\u001b[1;33m:\u001b[0m  \u001b[1;33m{\u001b[0m\u001b[0mmean_squared_error\u001b[0m\u001b[1;33m(\u001b[0m\u001b[0my_test\u001b[0m\u001b[1;33m,\u001b[0m \u001b[0mreg\u001b[0m\u001b[1;33m.\u001b[0m\u001b[0mpredict\u001b[0m\u001b[1;33m(\u001b[0m\u001b[0mX_test\u001b[0m\u001b[1;33m)\u001b[0m\u001b[1;33m)\u001b[0m\u001b[1;33m}\u001b[0m\u001b[1;33m\u001b[0m\u001b[1;33m\u001b[0m\u001b[0m\n\u001b[0;32m      5\u001b[0m \u001b[1;33m\u001b[0m\u001b[0m\n",
      "\u001b[1;31mNameError\u001b[0m: name 'reg' is not defined"
     ]
    }
   ],
   "source": [
    "print(f\"\"\"\n",
    "Simple Linear Regression\n",
    "Train MSE: {mean_squared_error(y_train, reg.predict(X_train))}\n",
    "Test MSE:  {mean_squared_error(y_test, reg.predict(X_test))}\n",
    "\n",
    "6th Degree Polynomial\n",
    "Train MSE: {mean_squared_error(y_train, reg_poly.predict(poly.transform(X_train)))}\n",
    "Test MSE:  {mean_squared_error(y_test, reg_poly.predict(poly.transform(X_test)))}\n",
    "\n",
    "2nd Degree Polynomial\n",
    "Train MSE: {mean_squared_error(y_train, reg_poly_2.predict(poly_2.transform(X_train)))}\n",
    "Test MSE:  {mean_squared_error(y_test, reg_poly_2.predict(poly_2.transform(X_test)))}\n",
    "\"\"\")"
   ]
  },
  {
   "cell_type": "markdown",
   "metadata": {
    "id": "effwheFaPtfA"
   },
   "source": [
    "Our linear regression is as above and based on the results, we utilize onboard K-Fold Cross Validation model."
   ]
  },
  {
   "cell_type": "markdown",
   "metadata": {
    "id": "lK7aRjImwQiK"
   },
   "source": [
    "## Fitting and Evaluating the model with K-Fold Cross-Validation\n",
    "\n",
    "We hereby try and improve the results by using the K-Fold model to better test whether our model can give us better results"
   ]
  },
  {
   "cell_type": "code",
   "execution_count": 24,
   "metadata": {
    "colab": {
     "base_uri": "https://localhost:8080/"
    },
    "id": "PjyjCt1uwSHF",
    "outputId": "0e9d119c-f8f1-40c0-9695-fbfa5055b734"
   },
   "outputs": [
    {
     "data": {
      "text/plain": [
       "array([0.08425802, 0.08974608, 0.08309254, 0.11223599, 0.13328332])"
      ]
     },
     "execution_count": 24,
     "metadata": {},
     "output_type": "execute_result"
    }
   ],
   "source": [
    "from sklearn.model_selection import cross_val_score\n",
    "\n",
    "cross_val_score(linreg, X, y)"
   ]
  },
  {
   "cell_type": "code",
   "execution_count": 25,
   "metadata": {
    "colab": {
     "base_uri": "https://localhost:8080/"
    },
    "id": "fKqwrA-ewdJS",
    "outputId": "390141c0-ec4b-4b3b-d541-11b3f6ebd884"
   },
   "outputs": [
    {
     "data": {
      "text/plain": [
       "array([0.05382462, 0.10802493, 0.11576401, 0.07857363, 0.03844762,\n",
       "       0.10228752, 0.12342448, 0.09215267, 0.113743  , 0.1567804 ])"
      ]
     },
     "execution_count": 25,
     "metadata": {},
     "output_type": "execute_result"
    }
   ],
   "source": [
    "cross_val_score(linreg, X, y, cv=10)"
   ]
  },
  {
   "cell_type": "code",
   "execution_count": 26,
   "metadata": {
    "colab": {
     "base_uri": "https://localhost:8080/"
    },
    "id": "VrXSvj5_weFl",
    "outputId": "00e572e6-1e95-485b-9ea5-49bffb6d0255"
   },
   "outputs": [
    {
     "data": {
      "text/plain": [
       "array([-0.1098794 , -0.0908435 , -0.12067452, -0.11606324, -0.11775698])"
      ]
     },
     "execution_count": 26,
     "metadata": {},
     "output_type": "execute_result"
    }
   ],
   "source": [
    "cross_val_score(linreg, X, y, scoring=\"neg_mean_squared_error\")"
   ]
  },
  {
   "cell_type": "code",
   "execution_count": 27,
   "metadata": {
    "colab": {
     "base_uri": "https://localhost:8080/"
    },
    "id": "TW-lHr1DwfvI",
    "outputId": "9fc1ba4f-92c3-413a-c7f4-ebe7f123d2f4"
   },
   "outputs": [
    {
     "data": {
      "text/plain": [
       "array([0.1098794 , 0.0908435 , 0.12067452, 0.11606324, 0.11775698])"
      ]
     },
     "execution_count": 27,
     "metadata": {},
     "output_type": "execute_result"
    }
   ],
   "source": [
    "from sklearn.metrics import make_scorer\n",
    "\n",
    "cross_val_score(linreg, X, y, scoring=make_scorer(mean_squared_error))"
   ]
  },
  {
   "cell_type": "code",
   "execution_count": 28,
   "metadata": {
    "colab": {
     "base_uri": "https://localhost:8080/"
    },
    "id": "Gj0hKXw_whhK",
    "outputId": "ca3025f0-af10-46a1-9566-fc4d2c28f479"
   },
   "outputs": [
    {
     "data": {
      "text/plain": [
       "array([0.08425802, 0.08974608, 0.08309254, 0.11223599, 0.13328332])"
      ]
     },
     "execution_count": 28,
     "metadata": {},
     "output_type": "execute_result"
    }
   ],
   "source": [
    "from sklearn.model_selection import cross_validate\n",
    "\n",
    "cross_validate(linreg, X, y)[\"test_score\"]"
   ]
  },
  {
   "cell_type": "code",
   "execution_count": 29,
   "metadata": {
    "colab": {
     "base_uri": "https://localhost:8080/"
    },
    "id": "2N0Y4G0vwizc",
    "outputId": "77e6b75e-1004-47d9-8914-41ccec40c4ac"
   },
   "outputs": [
    {
     "data": {
      "text/plain": [
       "{'fit_time': array([0.00603104, 0.0042491 , 0.01037645, 0.01151133, 0.01099968]),\n",
       " 'score_time': array([0.0040009 , 0.00421858, 0.00399923, 0.00400066, 0.0034349 ]),\n",
       " 'test_score': array([0.08425802, 0.08974608, 0.08309254, 0.11223599, 0.13328332])}"
      ]
     },
     "execution_count": 29,
     "metadata": {},
     "output_type": "execute_result"
    }
   ],
   "source": [
    "cross_validate(linreg, X, y)"
   ]
  },
  {
   "cell_type": "code",
   "execution_count": 30,
   "metadata": {
    "colab": {
     "base_uri": "https://localhost:8080/"
    },
    "id": "sBO2D184wkO0",
    "outputId": "9750119c-6df2-4cb8-f338-b09f1138abc3"
   },
   "outputs": [
    {
     "data": {
      "text/plain": [
       "{'fit_time': array([0.00744247, 0.00708771, 0.0055213 , 0.00502491, 0.0049181 ,\n",
       "        0.0049932 , 0.00499797, 0.00600028, 0.00499892, 0.00399995]),\n",
       " 'score_time': array([0.00242305, 0.00399566, 0.00307393, 0.00293207, 0.00308204,\n",
       "        0.00299954, 0.00392723, 0.00300479, 0.00300002, 0.00399756]),\n",
       " 'test_score': array([0.05382462, 0.10802493, 0.11576401, 0.07857363, 0.03844762,\n",
       "        0.10228752, 0.12342448, 0.09215267, 0.113743  , 0.1567804 ])}"
      ]
     },
     "execution_count": 30,
     "metadata": {},
     "output_type": "execute_result"
    }
   ],
   "source": [
    "cross_validate(linreg, X, y, cv=10)"
   ]
  },
  {
   "cell_type": "code",
   "execution_count": 31,
   "metadata": {
    "colab": {
     "base_uri": "https://localhost:8080/"
    },
    "id": "OVwk10hXwmNZ",
    "outputId": "35d1ee22-e320-4c53-9363-10a2a21aa203"
   },
   "outputs": [
    {
     "data": {
      "text/plain": [
       "{'fit_time': array([0.00651908, 0.00504994, 0.00536418, 0.00548911, 0.00434732]),\n",
       " 'score_time': array([0.00446677, 0.00303125, 0.00409245, 0.00344205, 0.00328374]),\n",
       " 'test_r2': array([0.08425802, 0.08974608, 0.08309254, 0.11223599, 0.13328332]),\n",
       " 'test_neg_mean_squared_error': array([-0.1098794 , -0.0908435 , -0.12067452, -0.11606324, -0.11775698])}"
      ]
     },
     "execution_count": 31,
     "metadata": {},
     "output_type": "execute_result"
    }
   ],
   "source": [
    "cross_validate(linreg, X, y, scoring=[\"r2\", \"neg_mean_squared_error\"])"
   ]
  },
  {
   "cell_type": "code",
   "execution_count": 32,
   "metadata": {
    "colab": {
     "base_uri": "https://localhost:8080/"
    },
    "id": "TySUOLYxwngY",
    "outputId": "74a28190-122b-47e6-e5f5-864dc153edad"
   },
   "outputs": [
    {
     "data": {
      "text/plain": [
       "{'fit_time': array([0.00618577, 0.00699449, 0.00613594, 0.00499439, 0.00499988]),\n",
       " 'score_time': array([0.00303984, 0.00300002, 0.0030148 , 0.0020628 , 0.00399971]),\n",
       " 'test_score': array([0.08425802, 0.08974608, 0.08309254, 0.11223599, 0.13328332]),\n",
       " 'train_score': array([0.12004413, 0.11494275, 0.12043026, 0.11234461, 0.10577745])}"
      ]
     },
     "execution_count": 32,
     "metadata": {},
     "output_type": "execute_result"
    }
   ],
   "source": [
    "cross_validate(linreg, X, y, return_train_score=True)"
   ]
  },
  {
   "cell_type": "markdown",
   "metadata": {
    "id": "T24zPvvtwwkv"
   },
   "source": [
    "# Conclusion\n",
    "\n",
    "---\n",
    "\n",
    "Our data is not able to give us intended results based on our initial model and our improved model. This does not however reflect the inadequacy of the library. Instead, it only indicates that we need to try other models to stand a better chance of giving us a better prediction of a customer dropping our services arising from their behavious as demonstrated by available data of activities such customers potray."
   ]
  }
 ],
 "metadata": {
  "colab": {
   "provenance": []
  },
  "kernelspec": {
   "display_name": "Python 3 (ipykernel)",
   "language": "python",
   "name": "python3"
  },
  "language_info": {
   "codemirror_mode": {
    "name": "ipython",
    "version": 3
   },
   "file_extension": ".py",
   "mimetype": "text/x-python",
   "name": "python",
   "nbconvert_exporter": "python",
   "pygments_lexer": "ipython3",
   "version": "3.9.13"
  }
 },
 "nbformat": 4,
 "nbformat_minor": 1
}
